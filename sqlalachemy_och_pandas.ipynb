{
 "cells": [
  {
   "cell_type": "markdown",
   "metadata": {},
   "source": [
    "# SQLAlchemy och Pandas\n",
    "\n",
    "För att koppla ihop SQL-databasen med Python behöver vi använda ett bibliotek som heter SQLAlchemy. Dessutom behövs ett bibliotek som heter pyodbc för att hantera kopplingen mellan SQLAlchemy och SQL-servern.\n",
    "\n",
    "Följande kodexempel bör fungera för att skapa en koppling mellan SQL-servern och en Jupyter Notebook för att utföra en query och läsa in resultatet som en Pandas `DataFrame` för vidare analys och visualisering."
   ]
  },
  {
   "cell_type": "markdown",
   "metadata": {},
   "source": [
    "# Teoretiska frågor\n",
    "1. Beskriv kort hur en relationsdatabas fungerar.\n",
    "Relationsdatabaser fungerar med hjälp av tabeller för att organisera data. Eftersom det är data i olika tabeller så kan man sedan koppla tabeller med varandra vilket ger en relation mellan datan som finns i olika tabeller.\n",
    "2. Vad menas med “CRUD”-flödet?\n",
    "CRUD står för Create, Read, Update och Delete och är väldigt grundläggande i vad man kan göra i en databas. Ska man exempelvis gå igenom en databas för första gången så kan man använda sig av delar i CRUD som exempel, läsa igenom, uppdatera, skapa och ta bort viss data. \n",
    "3. Beskriv kort vad en “left join” och en “inner join” är. Varför använder man det?\n",
    "Man använder olika joins för att kombinera två olika tabeller. En inner join använder man för att kombinera två tabeller med en likhet och att det har gemmensamma förutsättningar. En left join använder man om man vill spara alla ha kvar alla rader från den vänstra tabellen men inte den andra, dvs även om den inte har likadana rader på andra tabellen så stannar alla rader på den vänstra tabellen.\n",
    "4. Beskriv kort vad indexering i SQL innebär.\n",
    "När man indexerar i SQL så gör man det för att skapa en sorts datastruktur alltså en index eller som ett register. Inderxering gör så att du kan hitta liknande rader i tabellerna utan att behöva gå igenom hela tabellen. Det kan användas om tabellen har många rader för att hitta snabbare.  \n",
    "5. Beskriv kort vad en vy i SQL är. \n",
    "En vy används för att förenkla tuffa frågor samt en förbättrad säkerhet på datan som visas i en vy. Du kan också använda en vy när du ska presentera en viss data på ett säkert sätt.\n",
    "6. Beskriv kort vad en lagrad procedur i SQL är.\n",
    "En lagrad procedur i SQL kan vara querys dvs kommandon som sparas i databasen som sedan kan användas för att för att få en viss funktion. Har man återkommande arbetsuppgifter så är en lagrad procedur bra för att kunna snabbt få upp samma kommando igen för att lösa arbetsuppgiften på nytt. "
   ]
  },
  {
   "cell_type": "code",
   "execution_count": null,
   "metadata": {},
   "outputs": [],
   "source": [
    "# Installera bibliotek. Om du använder Anaconda är de antagligen redan installerade och du bör inte behöva inte köra den här koden.\n",
    "\n",
    "! pip install sqlalchemy pyodbc pandas jupyter"
   ]
  },
  {
   "cell_type": "code",
   "execution_count": 2,
   "metadata": {},
   "outputs": [],
   "source": [
    "# Importer\n",
    "\n",
    "from sqlalchemy.engine import create_engine, URL\n",
    "import pandas as pd"
   ]
  },
  {
   "cell_type": "code",
   "execution_count": 3,
   "metadata": {},
   "outputs": [],
   "source": [
    "\n",
    "SERVER = 'localhost'  # localhost innebär att du ansluter till en server på din egen dator\n",
    "DATABASE = 'AdventureWorks2022'\n",
    "\n",
    "connection_string = f'DRIVER={{ODBC Driver 18 for SQL Server}};SERVER={SERVER};DATABASE={DATABASE};Trusted_Connection=yes;Encrypt=no'\n",
    "\n",
    "connection_url = URL.create('mssql+pyodbc', query={'odbc_connect': connection_string})\n",
    "\n",
    "engine = create_engine(connection_url)  # engine är anslutningsobjektet vi använder för att kommunicera med databasen."
   ]
  },
  {
   "cell_type": "markdown",
   "metadata": {},
   "source": [
    "# Query ett - Här så väljer jag produkt namn samt försäljningen av produkt\n",
    "\n",
    "I denna query så använder jag P.ProductID för att få ut produkt id från tabellen Production.Product.\n",
    "I samband med det så gör jag en P.Name för att ge ett alias för läsbarhetens skull och använder “AS” för att göra det. Alltså P.Name AS ProductName \n",
    "Sedan använder jag SUM som då betyder summation och summerar i mitt fall då antalet sålda produkter från Sales.SalesOrderDetail (SOD). Igen använder jag “AS” för att göra det mer läsbart till TotalQuantitySold\n",
    "Samma princip gjorde jag i nästa del av koden för att göra det lätt att förstå hur mycket i antal som sålts vilket fick heta TotalSalesRevenue.\n",
    "\n",
    "FROM o JOIN\n",
    "I min FROM statement använder jag Production.Product med en förkortning som P.\n",
    "SEdan använder jag JOIN för koppla ihop tabellen Sales.SalesOrderDetail och förkortar den med SOD.\n",
    "För att sen få matchande rader som jag hade sett var ProductID så använde jag ON statement för att säkerställa att just ProductID skulle inkluderas.\n",
    "\n",
    "GROUP BY o ORDER BY\n",
    "Eftersom jag använder SUM alltså summeringsfunktion så är det viktigt att använda gruppering då jag vill få alla totaler. För att sen separera använder jag GROUP BY för att separera produkter med sina ID:n med P.ProductID\n",
    "och samma för namnen som är då P.Name. \n",
    "\n",
    "Till sist använder jag ORDER BY på TotalSalesRevenue för att få resultaten på de som har sålts mest och som visar i fallande ordning där jag använder DESC som står för descending. \n"
   ]
  },
  {
   "cell_type": "code",
   "execution_count": 4,
   "metadata": {},
   "outputs": [],
   "source": [
    "# Skriv en query. Använd trippla citationstecken runt textsträngen för att kunna ha radbrytningar i den.\n",
    "\n",
    "query = \"\"\"\n",
    "SELECT \n",
    "P.ProductID, P.Name AS ProductName, SUM(SOD.OrderQty) AS TotalQuantitySold, SUM(SOD.LineTotal) AS TotalSalesRevenue\n",
    "FROM\n",
    "Production.Product P\n",
    "JOIN\n",
    "Sales.SalesOrderDetail SOD\n",
    "ON\n",
    "P.ProductID = SOD.ProductID\n",
    "GROUP BY\n",
    "P.ProductID, P.Name\n",
    "ORDER BY\n",
    "TotalSalesRevenue DESC;\"\"\"\n",
    "\n",
    "# Skapa en DataFrame med resultaten av queryn.\n",
    "products_df = pd.read_sql(query, engine)"
   ]
  },
  {
   "cell_type": "code",
   "execution_count": null,
   "metadata": {},
   "outputs": [],
   "source": [
    "products_df"
   ]
  },
  {
   "cell_type": "markdown",
   "metadata": {},
   "source": [
    "# Konfidensintervall - Produkter"
   ]
  },
  {
   "cell_type": "code",
   "execution_count": null,
   "metadata": {},
   "outputs": [],
   "source": [
    "import numpy as np\n",
    "from scipy.stats import t, sem\n",
    "\n",
    "försäljning = products_df['TotalSalesRevenue'].values \n",
    "konfidens_intervall = 0.95\n",
    "\n",
    "medelvärde = försäljning.mean()\n",
    "standardfel = sem(försäljning)  \n",
    "\n",
    "t_värde = t.ppf((1 + konfidens_intervall) / 2, df=len(försäljning)-1)\n",
    "marginal_fel = t_värde * standardfel\n",
    "\n",
    "lower = medelvärde - marginal_fel\n",
    "upper = medelvärde + marginal_fel\n",
    "\n",
    "print(f\"Medelvärde av försäljning: {medelvärde:.2f}\")\n",
    "print(f\"95% Konfidensintervall: ({lower:.2f}, {upper:.2f})\")"
   ]
  },
  {
   "cell_type": "markdown",
   "metadata": {},
   "source": [
    "# Query två - Nu tar vi reda på vilken månad som sålt mest\n",
    "\n",
    "Här så börjar jag med att dela upp YEAR som jag hämtar ifrån Sales.SalesOrderHeader (SOH) vilket hämtar åren från kolumnen OrderDate. Jag döper den till Year.\n",
    "Samma procedur gör jag med MONTH för att få fram månader från OrderDate.\n",
    "Sedan summerar jag kvantiteter från (SOD) som heter OrderQty för att döpa den till TotalQuantitySold.\n",
    "För att få den totala försäljningen så summerar jag från (SOD) som heter LineTotal  och döper den till TotalSalesRevenue.\n"
   ]
  },
  {
   "cell_type": "code",
   "execution_count": 7,
   "metadata": {},
   "outputs": [],
   "source": [
    "query = \"\"\"\n",
    "SELECT\n",
    "YEAR(SOH.OrderDate) AS Year, MONTH(SOH.OrderDate) AS Month, SUM(SOD.OrderQty) AS TotalQuantitySold, SUM(SOD.LineTotal) AS TotalSalesRevenue\n",
    "FROM\n",
    "Sales.SalesOrderHeader SOH\n",
    "JOIN\n",
    "Sales.SalesOrderDetail SOD\n",
    "ON\n",
    "SOH.SalesOrderID = SOD.SalesOrderID\n",
    "GROUP BY\n",
    "YEAR(SOH.OrderDate), MONTH(SOH.OrderDate)\n",
    "ORDER BY\n",
    "TotalSalesRevenue DESC;\"\"\"\n",
    "\n",
    "\n",
    "datum = pd.read_sql(query, engine)"
   ]
  },
  {
   "cell_type": "code",
   "execution_count": null,
   "metadata": {},
   "outputs": [],
   "source": [
    "datum"
   ]
  },
  {
   "cell_type": "markdown",
   "metadata": {},
   "source": [
    "# Konfidensintervall - Datum"
   ]
  },
  {
   "cell_type": "code",
   "execution_count": null,
   "metadata": {},
   "outputs": [],
   "source": [
    "import numpy as np\n",
    "from scipy.stats import t, sem\n",
    "\n",
    "försäljning_enheter = datum['Month'].values \n",
    "konfidens_intervall = 0.95\n",
    "\n",
    "medelvärde = försäljning_enheter.mean()\n",
    "standardfel = sem(försäljning_enheter)  \n",
    "\n",
    "t_värde = t.ppf((1 + konfidens_intervall) / 2, df=len(försäljning_enheter)-1)\n",
    "marginal_fel = t_värde * standardfel\n",
    "\n",
    "lower = medelvärde - marginal_fel\n",
    "upper = medelvärde + marginal_fel\n",
    "\n",
    "print(f\"Medelvärde av försäljning av enheter: {medelvärde:.2f}\")\n",
    "print(f\"95% Konfidensintervall: ({lower:.2f}, {upper:.2f})\")"
   ]
  },
  {
   "cell_type": "markdown",
   "metadata": {},
   "source": [
    "# Query tre - Eftersom vi vet nu att år 2014 samt månad 3 var best säljade så filtrerar vi produkter för just de datum\n",
    "\n",
    "\n",
    "Den ända skillnaden här är att nu eftersom jag vet att den är 2014 och månad 3 som sålt mest så stoppade jag in dom värdena i min WHERE statement för bara inkludera just den månaden från de året. Och det var intressant att se hur en moutainbike va så populärt. "
   ]
  },
  {
   "cell_type": "code",
   "execution_count": 10,
   "metadata": {},
   "outputs": [],
   "source": [
    "query = \"\"\"\n",
    "SELECT\n",
    "P.ProductID,  P.Name AS ProductName, SUM(SOD.OrderQty) AS TotalQuantitySold, SUM(SOD.LineTotal) AS TotalSalesRevenue\n",
    "FROM\n",
    "Production.Product P\n",
    "JOIN\n",
    "Sales.SalesOrderDetail SOD\n",
    "ON\n",
    "P.ProductID = SOD.ProductID\n",
    "JOIN\n",
    "Sales.SalesOrderHeader SOH\n",
    "ON\n",
    "SOD.SalesOrderID = SOH.SalesOrderID\n",
    "WHERE\n",
    "YEAR(SOH.OrderDate) = 2014 AND MONTH(SOH.OrderDate) = 3\n",
    "GROUP BY\n",
    "P.ProductID, P.Name\n",
    "ORDER BY\n",
    "TotalSalesRevenue DESC;\"\"\"\n",
    "\n",
    "\n",
    "mars_månad = pd.read_sql(query, engine)"
   ]
  },
  {
   "cell_type": "code",
   "execution_count": null,
   "metadata": {},
   "outputs": [],
   "source": [
    "mars_månad"
   ]
  },
  {
   "cell_type": "markdown",
   "metadata": {},
   "source": [
    "# Konfidensintervall - 2014 månad 3"
   ]
  },
  {
   "cell_type": "code",
   "execution_count": null,
   "metadata": {},
   "outputs": [],
   "source": [
    "import numpy as np\n",
    "from scipy.stats import t, sem\n",
    "\n",
    "försäljning = mars_månad['TotalSalesRevenue'].values \n",
    "konfidens_intervall = 0.95\n",
    "\n",
    "medelvärde = försäljning.mean()\n",
    "standardfel = sem(försäljning)  \n",
    "\n",
    "t_värde = t.ppf((1 + konfidens_intervall) / 2, df=len(försäljning)-1)\n",
    "marginal_fel = t_värde * standardfel\n",
    "\n",
    "lower = medelvärde - marginal_fel\n",
    "upper = medelvärde + marginal_fel\n",
    "\n",
    "print(f\"Medelvärde av försäljning: {medelvärde:.2f}\")\n",
    "print(f\"95% Konfidensintervall: ({lower:.2f}, {upper:.2f})\")"
   ]
  },
  {
   "cell_type": "markdown",
   "metadata": {},
   "source": [
    "# Query fyra - Top 10\n",
    "Yttligare så valde jag att titta på top 10 varor som sålts mest. Där jag räknar ut konfidensintervallet samt medelvärde."
   ]
  },
  {
   "cell_type": "code",
   "execution_count": 13,
   "metadata": {},
   "outputs": [],
   "source": [
    "query = \"\"\" \n",
    "SELECT TOP 10\n",
    "    P.ProductID,  \n",
    "    P.Name AS ProductName, \n",
    "    SUM(SOD.OrderQty) AS TotalQuantitySold, \n",
    "    SUM(SOD.LineTotal) AS TotalSalesRevenue\n",
    "FROM\n",
    "    Production.Product P\n",
    "JOIN\n",
    "    Sales.SalesOrderDetail SOD\n",
    "    ON P.ProductID = SOD.ProductID\n",
    "JOIN\n",
    "    Sales.SalesOrderHeader SOH\n",
    "    ON SOD.SalesOrderID = SOH.SalesOrderID\n",
    "WHERE\n",
    "    YEAR(SOH.OrderDate) = 2014 \n",
    "    AND MONTH(SOH.OrderDate) = 3\n",
    "GROUP BY\n",
    "    P.ProductID, \n",
    "    P.Name\n",
    "ORDER BY\n",
    "    TotalSalesRevenue DESC;\"\"\"\n",
    "\n",
    "tio_top = pd.read_sql(query, engine)"
   ]
  },
  {
   "cell_type": "code",
   "execution_count": null,
   "metadata": {},
   "outputs": [],
   "source": [
    "tio_top"
   ]
  },
  {
   "cell_type": "markdown",
   "metadata": {},
   "source": [
    "# Konfidensintervall - TOP 10"
   ]
  },
  {
   "cell_type": "code",
   "execution_count": null,
   "metadata": {},
   "outputs": [],
   "source": [
    "import numpy as np\n",
    "from scipy.stats import t, sem\n",
    "\n",
    "försäljning = tio_top['TotalSalesRevenue'].values \n",
    "konfidens_intervall = 0.95\n",
    "\n",
    "medelvärde = försäljning.mean()\n",
    "standardfel = sem(försäljning)  \n",
    "\n",
    "t_värde = t.ppf((1 + konfidens_intervall) / 2, df=len(försäljning)-1)\n",
    "marginal_fel = t_värde * standardfel\n",
    "\n",
    "lower = medelvärde - marginal_fel\n",
    "upper = medelvärde + marginal_fel\n",
    "\n",
    "print(f\"Medelvärde av försäljning: {medelvärde:.2f}\")\n",
    "print(f\"95% Konfidensintervall: ({lower:.2f}, {upper:.2f})\")"
   ]
  },
  {
   "cell_type": "markdown",
   "metadata": {},
   "source": [
    "# Kort sammanfattning\n",
    "\n",
    "Query ett - Så kollar jag upp alla produkter som företaget har, och kollar på hur mycket som sålts som en helhet av alla produkter med en 95% kofidensintervall.\n",
    "Query två - Här ser vi datum för best sålda datum. Med en 95% konfidensintervall så ser vi hur mycket av produkter som sålts under månader. \n",
    "Query tre - Nu filtrerar jag till just den bäst säljande datum vilket är 2014 mars där vi kollar på konfidensintervall på försäljningsintäkter. Vi kan se att för månaden 3 år 2014 så har vi ungeräflig medelvärde i försäljningen på 40000 men att vi är 95% säkra på att försäljningen skulle ungefärlig vara mellan 30000 till 50000.\n",
    "Query fyra - Tillsist filtrerar jag varför just dessa produkter som sålts bäst och räknar slutligen ut konfidensintervall på just de 10 produkter som sålt bäst i Mars 2014."
   ]
  },
  {
   "cell_type": "markdown",
   "metadata": {},
   "source": [
    "# Rekomendationer\n",
    "Som rekomendation kan vi se i min tredje query samt konfidensintervallet att det är vår/sommar och många väljer att köpa moutainbikes för att snön kan smälta och det blir vår/sommar väder. Jag hade gjort kampanjer som vår/sommar rea för cyklar samt cykel accesoarer då vi ser att det finns en tendens att köparna köper gärna under varmare väder. Men det behöver inte heller vara så, som test och rekomendation hade jag ändå gjort en vår rea. "
   ]
  }
 ],
 "metadata": {
  "kernelspec": {
   "display_name": "base",
   "language": "python",
   "name": "python3"
  },
  "language_info": {
   "codemirror_mode": {
    "name": "ipython",
    "version": 3
   },
   "file_extension": ".py",
   "mimetype": "text/x-python",
   "name": "python",
   "nbconvert_exporter": "python",
   "pygments_lexer": "ipython3",
   "version": "3.12.4"
  }
 },
 "nbformat": 4,
 "nbformat_minor": 2
}
